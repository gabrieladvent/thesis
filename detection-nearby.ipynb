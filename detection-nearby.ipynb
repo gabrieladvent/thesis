{
 "cells": [
  {
   "cell_type": "code",
   "execution_count": null,
   "id": "3beedd6f",
   "metadata": {},
   "outputs": [],
   "source": [
    "!nvidia-smi"
   ]
  },
  {
   "cell_type": "code",
   "execution_count": null,
   "id": "b52ccaf7",
   "metadata": {
    "execution": {
     "iopub.execute_input": "2024-03-25T16:32:00.847439Z",
     "iopub.status.busy": "2024-03-25T16:32:00.847070Z",
     "iopub.status.idle": "2024-03-25T16:32:00.859191Z",
     "shell.execute_reply": "2024-03-25T16:32:00.858174Z"
    },
    "papermill": {
     "duration": 0.021466,
     "end_time": "2024-03-25T16:32:00.861346",
     "exception": false,
     "start_time": "2024-03-25T16:32:00.839880",
     "status": "completed"
    },
    "tags": []
   },
   "outputs": [],
   "source": [
    "import os\n",
    "HOME = os.getcwd()\n",
    "print(HOME)"
   ]
  },
  {
   "cell_type": "code",
   "execution_count": null,
   "id": "4d9576f6",
   "metadata": {
    "execution": {
     "iopub.execute_input": "2024-03-25T16:32:00.873498Z",
     "iopub.status.busy": "2024-03-25T16:32:00.873216Z",
     "iopub.status.idle": "2024-03-25T16:32:29.267590Z",
     "shell.execute_reply": "2024-03-25T16:32:29.266681Z"
    },
    "papermill": {
     "duration": 28.402822,
     "end_time": "2024-03-25T16:32:29.269824",
     "exception": false,
     "start_time": "2024-03-25T16:32:00.867002",
     "status": "completed"
    },
    "tags": []
   },
   "outputs": [],
   "source": [
    "!pip install ultralytics==8.0.20\n",
    "\n",
    "from IPython import display\n",
    "display.clear_output()\n",
    "\n",
    "import ultralytics\n",
    "ultralytics.checks()"
   ]
  },
  {
   "cell_type": "code",
   "execution_count": null,
   "id": "2473cbe8",
   "metadata": {
    "execution": {
     "iopub.execute_input": "2024-03-25T16:32:29.282876Z",
     "iopub.status.busy": "2024-03-25T16:32:29.282085Z",
     "iopub.status.idle": "2024-03-25T16:32:29.286917Z",
     "shell.execute_reply": "2024-03-25T16:32:29.286074Z"
    },
    "papermill": {
     "duration": 0.013341,
     "end_time": "2024-03-25T16:32:29.288822",
     "exception": false,
     "start_time": "2024-03-25T16:32:29.275481",
     "status": "completed"
    },
    "tags": []
   },
   "outputs": [],
   "source": [
    "from ultralytics import YOLO\n",
    "from IPython.display import display, Image"
   ]
  },
  {
   "cell_type": "markdown",
   "id": "88116f81",
   "metadata": {
    "papermill": {
     "duration": 0.006573,
     "end_time": "2024-03-25T16:32:56.411311",
     "exception": false,
     "start_time": "2024-03-25T16:32:56.404738",
     "status": "completed"
    },
    "tags": []
   },
   "source": [
    "# Import datasets from roboflow"
   ]
  },
  {
   "cell_type": "code",
   "execution_count": null,
   "id": "1c07d05a",
   "metadata": {
    "execution": {
     "iopub.execute_input": "2024-03-25T16:32:56.426307Z",
     "iopub.status.busy": "2024-03-25T16:32:56.425486Z",
     "iopub.status.idle": "2024-03-25T16:32:57.484270Z",
     "shell.execute_reply": "2024-03-25T16:32:57.482967Z"
    },
    "papermill": {
     "duration": 1.068802,
     "end_time": "2024-03-25T16:32:57.486560",
     "exception": false,
     "start_time": "2024-03-25T16:32:56.417758",
     "status": "completed"
    },
    "tags": []
   },
   "outputs": [],
   "source": [
    "!mkdir {HOME}/datasets\n",
    "%cd {HOME}/datasets"
   ]
  },
  {
   "cell_type": "code",
   "execution_count": null,
   "id": "e6f807f5",
   "metadata": {
    "execution": {
     "iopub.execute_input": "2024-03-25T16:32:57.501694Z",
     "iopub.status.busy": "2024-03-25T16:32:57.501281Z",
     "iopub.status.idle": "2024-03-25T16:33:21.516203Z",
     "shell.execute_reply": "2024-03-25T16:33:21.515075Z"
    },
    "papermill": {
     "duration": 24.025255,
     "end_time": "2024-03-25T16:33:21.518578",
     "exception": false,
     "start_time": "2024-03-25T16:32:57.493323",
     "status": "completed"
    },
    "tags": []
   },
   "outputs": [],
   "source": [
    "%cd {HOME}/datasets\n",
    "!pip install roboflow\n",
    "from roboflow import Roboflow\n",
    "\n",
    "rf = Roboflow(api_key=\"A88aglIXim3OCSF5vNOe\")\n",
    "project = rf.workspace(\"gabriel-advent-hobto\").project(\"detect-tdz36\")\n",
    "version = project.version(2)\n",
    "dataset = version.download(\"yolov8\")\n"
   ]
  },
  {
   "cell_type": "markdown",
   "id": "572b0a24",
   "metadata": {},
   "source": [
    "# Contoh train code"
   ]
  },
  {
   "cell_type": "code",
   "execution_count": null,
   "id": "98b51094",
   "metadata": {},
   "outputs": [],
   "source": [
    "!yolo detect train \\\n",
    "    data='/kaggle/working/datasets/detect-2/data.yaml' \\\n",
    "    model=yolov8m.pt \\\n",
    "    epochs=200 \\\n",
    "    imgsz=416 \\\n",
    "    optimizer='Adam' \\\n",
    "    batch=64 \\\n",
    "    lr0=0.0001 \\\n",
    "    dropout=0.2 \\\n",
    "    plots=True \\\n",
    "    save=True"
   ]
  },
  {
   "cell_type": "markdown",
   "id": "01a800d5",
   "metadata": {},
   "source": [
    "# Train Grid Search"
   ]
  },
  {
   "cell_type": "code",
   "execution_count": null,
   "id": "7155e488",
   "metadata": {},
   "outputs": [],
   "source": [
    "import subprocess\n",
    "from itertools import product\n",
    "\n",
    "param_grid = {\n",
    "    'model': ['yolov8s.pt'],\n",
    "    'dropout': [0.2, 0.5],\n",
    "    'batch': [32, 64],\n",
    "    'lr': [0.001, 0.0001],\n",
    "    'optimizer' : ['Adam', 'RMSProp'],\n",
    "}\n",
    "\n",
    "# Generate semua kombinasi\n",
    "param_combinations = list(product(*param_grid.values()))\n",
    "print(len(param_combinations))"
   ]
  },
  {
   "cell_type": "code",
   "execution_count": null,
   "id": "a90405ed",
   "metadata": {},
   "outputs": [],
   "source": [
    "# Memasukan semua kombinasi parameter ke dalam commands\n",
    "\n",
    "commands = []\n",
    "for params in param_combinations:\n",
    "    model, dropout, batch, lr, optimizer = params\n",
    "    command = f\"yolo detect train \\\n",
    "data='/kaggle/working/datasets/detect-2/data.yaml' \\\n",
    "model='{model}' \\\n",
    "epochs=200 \\\n",
    "imgsz='416' \\\n",
    "optimizer={optimizer} \\\n",
    "lr0={lr} \\\n",
    "batch='{batch}' \\\n",
    "dropout='{dropout}'\\\n",
    "plots=True \\\n",
    "save=True\"\n",
    "    commands.append(command)"
   ]
  },
  {
   "cell_type": "code",
   "execution_count": null,
   "id": "04d2f23c",
   "metadata": {},
   "outputs": [],
   "source": [
    "%cd {HOME}\n",
    "\n",
    "import subprocess\n",
    "\n",
    "# Loop setiap perintah dan jalankan menggunakan subprocess\n",
    "for command in commands:\n",
    "    print(command)\n",
    "    subprocess.run(command, shell=True)"
   ]
  },
  {
   "cell_type": "markdown",
   "id": "ff765b26",
   "metadata": {},
   "source": [
    "# Validasi"
   ]
  },
  {
   "cell_type": "code",
   "execution_count": null,
   "id": "0a554bc4",
   "metadata": {},
   "outputs": [],
   "source": [
    "%cd {HOME}\n",
    "model = '/kaggle/working/runs/detect/train/weights/best.pt'\n",
    "data = '/kaggle/working/datasets/detect-2/data.yaml'\n",
    "\n",
    "!yolo task=detect mode=val model=model data=data plots=True save_json=True"
   ]
  },
  {
   "cell_type": "markdown",
   "id": "9715d103",
   "metadata": {},
   "source": [
    "# Testing Without draw bounding box"
   ]
  },
  {
   "cell_type": "code",
   "execution_count": null,
   "id": "6d038465",
   "metadata": {},
   "outputs": [],
   "source": [
    "import glob\n",
    "import pandas as pd\n",
    "from PIL import Image as PILImage\n",
    "from IPython.display import display\n",
    "import cv2\n",
    "import numpy as np\n",
    "import matplotlib.pyplot as plt\n",
    "from ultralytics import YOLO\n",
    "from IPython.display import display, Image"
   ]
  },
  {
   "cell_type": "code",
   "execution_count": null,
   "id": "202aacdd",
   "metadata": {},
   "outputs": [],
   "source": [
    "test_path = \"test-image\"\n",
    "model = YOLO(f\"model-result/model-terbaik/best.pt\")"
   ]
  },
  {
   "cell_type": "code",
   "execution_count": null,
   "id": "717613c1",
   "metadata": {},
   "outputs": [],
   "source": [
    "results = model.predict(source=test_path)\n",
    "names = model.names\n",
    "\n",
    "for i, result in enumerate(results):\n",
    "    boxes = result.boxes\n",
    "    labels = result.names\n",
    "    \n",
    "    detected_labels = []\n",
    "    \n",
    "    for box in boxes:\n",
    "        label = names[int(box.cls)]\n",
    "        detected_labels.append(label)\n",
    "        \n",
    "    print(f\"Detected labels for image {i+1}: {detected_labels}\")\n",
    "    res_plotted = result.plot()\n",
    "    res_plotted_rgb = cv2.cvtColor(res_plotted, cv2.COLOR_BGR2RGB)\n",
    "    \n",
    "    plt.figure(figsize=(10, 10))\n",
    "    plt.imshow(res_plotted_rgb)\n",
    "    plt.axis('off')\n",
    "    plt.show()\n"
   ]
  },
  {
   "cell_type": "markdown",
   "id": "cb39545b",
   "metadata": {},
   "source": [
    "# Testing with draw bounding box"
   ]
  },
  {
   "cell_type": "code",
   "execution_count": null,
   "id": "bbab2c12",
   "metadata": {},
   "outputs": [],
   "source": [
    "results = model.predict(source=test_path)\n",
    "names = model.names\n",
    "labels = []\n",
    "\n",
    "# Simpan hasil deteksi di DF\n",
    "df_results = pd.DataFrame(columns=['Image', 'Labels'])\n",
    "\n",
    "for r in results:\n",
    "    # Get bounding box, index kelas, dan skor kepercayaan\n",
    "    boxes = r.boxes.xyxy\n",
    "    cls = r.boxes.cls\n",
    "    conf = r.boxes.conf  # Confidence score\n",
    "    \n",
    "    # Mengurutkan bounding box, kelas, dan skor kepercayaan\n",
    "    sorted_indices = boxes[:, 0].argsort()\n",
    "    sorted_boxes = boxes[sorted_indices]\n",
    "    sorted_cls = cls[sorted_indices]\n",
    "    sorted_conf = conf[sorted_indices]\n",
    "    \n",
    "    # Mendapatkan nama kelas\n",
    "    file_labels = [f\"{names[int(c)]} ({conf:.2f})\" for c, conf in zip(sorted_cls, sorted_conf)]\n",
    "    \n",
    "    labels.append((file_labels, sorted_boxes, sorted_cls, sorted_conf))\n"
   ]
  },
  {
   "cell_type": "code",
   "execution_count": null,
   "id": "ab481c74",
   "metadata": {},
   "outputs": [],
   "source": [
    "i = 0\n",
    "\n",
    "image_extensions = ['png', 'jpg', 'jpeg']\n",
    "\n",
    "for image_extension in image_extensions:\n",
    "    image_paths = glob.glob(f\"{test_path}/*.{image_extension}\")\n",
    "    for image_path in sorted(image_paths):\n",
    "        print(image_path)\n",
    "        file_labels, sorted_boxes, sorted_cls, sorted_conf = labels[i]\n",
    "        img = cv2.imread(image_path)\n",
    "        img = cv2.cvtColor(img, cv2.COLOR_BGR2RGB)\n",
    "        \n",
    "        # Membuat bounding box di gambar berdasarkan value bounding box\n",
    "        for box, cls_idx, conf in zip(sorted_boxes, sorted_cls, sorted_conf):\n",
    "            x1, y1, x2, y2 = map(int, box)\n",
    "            label = f\"{names[int(cls_idx)]} ({conf:.2f})\"\n",
    "            color = (254, 113, 31)  # Green color for bounding box\n",
    "            cv2.rectangle(img, (x1, y1), (x2, y2), color, 2)  # Mengurangi ketebalan bounding box menjadi 1\n",
    "            cv2.putText(img, label, (x1, y1 - 10), cv2.FONT_HERSHEY_SIMPLEX, 0.9, color, 2)  # Mengurangi ketebalan teks menjadi 1\n",
    "        \n",
    "        # Menampilkan gambar + bounding box\n",
    "        display(PILImage.fromarray(img))\n",
    "        \n",
    "        # Menampilkan kelas hasil prediksi\n",
    "        print(\"Detected Labels:\", \", \".join(file_labels))\n",
    "        print(\"\\n\")\n",
    "        \n",
    "        # Menambahkan hasil deteksi ke DF\n",
    "        df_results = pd.concat([df_results, pd.DataFrame({'Image': [image_path], 'Labels': [', '.join(file_labels)]})], ignore_index=True)\n",
    "        \n",
    "        i += 1"
   ]
  }
 ],
 "metadata": {
  "kaggle": {
   "accelerator": "nvidiaTeslaT4",
   "dataSources": [
    {
     "datasetId": 3945735,
     "sourceId": 6865350,
     "sourceType": "datasetVersion"
    },
    {
     "datasetId": 4480482,
     "sourceId": 7679816,
     "sourceType": "datasetVersion"
    }
   ],
   "dockerImageVersionId": 30648,
   "isGpuEnabled": true,
   "isInternetEnabled": true,
   "language": "python",
   "sourceType": "notebook"
  },
  "kernelspec": {
   "display_name": "Python 3",
   "language": "python",
   "name": "python3"
  },
  "language_info": {
   "codemirror_mode": {
    "name": "ipython",
    "version": 3
   },
   "file_extension": ".py",
   "mimetype": "text/x-python",
   "name": "python",
   "nbconvert_exporter": "python",
   "pygments_lexer": "ipython3",
   "version": "3.12.0"
  },
  "papermill": {
   "default_parameters": {},
   "duration": 6861.411676,
   "end_time": "2024-03-25T18:26:19.166797",
   "environment_variables": {},
   "exception": null,
   "input_path": "__notebook__.ipynb",
   "output_path": "__notebook__.ipynb",
   "parameters": {},
   "start_time": "2024-03-25T16:31:57.755121",
   "version": "2.5.0"
  }
 },
 "nbformat": 4,
 "nbformat_minor": 5
}
