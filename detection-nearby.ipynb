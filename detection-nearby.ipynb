{
 "cells": [
  {
   "cell_type": "code",
   "execution_count": 1,
   "id": "b52ccaf7",
   "metadata": {
    "execution": {
     "iopub.execute_input": "2024-03-25T16:32:00.847439Z",
     "iopub.status.busy": "2024-03-25T16:32:00.847070Z",
     "iopub.status.idle": "2024-03-25T16:32:00.859191Z",
     "shell.execute_reply": "2024-03-25T16:32:00.858174Z"
    },
    "papermill": {
     "duration": 0.021466,
     "end_time": "2024-03-25T16:32:00.861346",
     "exception": false,
     "start_time": "2024-03-25T16:32:00.839880",
     "status": "completed"
    },
    "tags": []
   },
   "outputs": [
    {
     "name": "stdout",
     "output_type": "stream",
     "text": [
      "/kaggle/working\n"
     ]
    }
   ],
   "source": [
    "import os\n",
    "HOME = os.getcwd()\n",
    "print(HOME)"
   ]
  },
  {
   "cell_type": "code",
   "execution_count": 2,
   "id": "4d9576f6",
   "metadata": {
    "execution": {
     "iopub.execute_input": "2024-03-25T16:32:00.873498Z",
     "iopub.status.busy": "2024-03-25T16:32:00.873216Z",
     "iopub.status.idle": "2024-03-25T16:32:29.267590Z",
     "shell.execute_reply": "2024-03-25T16:32:29.266681Z"
    },
    "papermill": {
     "duration": 28.402822,
     "end_time": "2024-03-25T16:32:29.269824",
     "exception": false,
     "start_time": "2024-03-25T16:32:00.867002",
     "status": "completed"
    },
    "tags": []
   },
   "outputs": [
    {
     "name": "stderr",
     "output_type": "stream",
     "text": [
      "Ultralytics YOLOv8.0.20 🚀 Python-3.10.13 torch-2.1.2 CUDA:0 (Tesla T4, 15102MiB)\n",
      "Setup complete ✅ (4 CPUs, 31.4 GB RAM, 5519.7/8062.4 GB disk)\n"
     ]
    }
   ],
   "source": [
    "!pip install ultralytics\n",
    "\n",
    "from IPython import display\n",
    "display.clear_output()\n",
    "\n",
    "import ultralytics\n",
    "ultralytics.checks()"
   ]
  },
  {
   "cell_type": "code",
   "execution_count": 3,
   "id": "2473cbe8",
   "metadata": {
    "execution": {
     "iopub.execute_input": "2024-03-25T16:32:29.282876Z",
     "iopub.status.busy": "2024-03-25T16:32:29.282085Z",
     "iopub.status.idle": "2024-03-25T16:32:29.286917Z",
     "shell.execute_reply": "2024-03-25T16:32:29.286074Z"
    },
    "papermill": {
     "duration": 0.013341,
     "end_time": "2024-03-25T16:32:29.288822",
     "exception": false,
     "start_time": "2024-03-25T16:32:29.275481",
     "status": "completed"
    },
    "tags": []
   },
   "outputs": [],
   "source": [
    "from ultralytics import YOLO\n",
    "from IPython.display import display, Image"
   ]
  },
  {
   "cell_type": "markdown",
   "id": "88116f81",
   "metadata": {
    "papermill": {
     "duration": 0.006573,
     "end_time": "2024-03-25T16:32:56.411311",
     "exception": false,
     "start_time": "2024-03-25T16:32:56.404738",
     "status": "completed"
    },
    "tags": []
   },
   "source": [
    "# Import datasets from roboflow"
   ]
  },
  {
   "cell_type": "code",
   "execution_count": 5,
   "id": "1c07d05a",
   "metadata": {
    "execution": {
     "iopub.execute_input": "2024-03-25T16:32:56.426307Z",
     "iopub.status.busy": "2024-03-25T16:32:56.425486Z",
     "iopub.status.idle": "2024-03-25T16:32:57.484270Z",
     "shell.execute_reply": "2024-03-25T16:32:57.482967Z"
    },
    "papermill": {
     "duration": 1.068802,
     "end_time": "2024-03-25T16:32:57.486560",
     "exception": false,
     "start_time": "2024-03-25T16:32:56.417758",
     "status": "completed"
    },
    "tags": []
   },
   "outputs": [
    {
     "name": "stdout",
     "output_type": "stream",
     "text": [
      "/kaggle/working/datasets\n"
     ]
    }
   ],
   "source": [
    "!mkdir {HOME}/datasets\n",
    "%cd {HOME}/datasets"
   ]
  },
  {
   "cell_type": "code",
   "execution_count": 6,
   "id": "e6f807f5",
   "metadata": {
    "execution": {
     "iopub.execute_input": "2024-03-25T16:32:57.501694Z",
     "iopub.status.busy": "2024-03-25T16:32:57.501281Z",
     "iopub.status.idle": "2024-03-25T16:33:21.516203Z",
     "shell.execute_reply": "2024-03-25T16:33:21.515075Z"
    },
    "papermill": {
     "duration": 24.025255,
     "end_time": "2024-03-25T16:33:21.518578",
     "exception": false,
     "start_time": "2024-03-25T16:32:57.493323",
     "status": "completed"
    },
    "tags": []
   },
   "outputs": [
    {
     "name": "stdout",
     "output_type": "stream",
     "text": [
      "/kaggle/working/datasets\n",
      "Collecting roboflow\r\n",
      "  Downloading roboflow-1.1.26-py3-none-any.whl.metadata (9.3 kB)\r\n",
      "Collecting certifi==2023.7.22 (from roboflow)\r\n",
      "  Downloading certifi-2023.7.22-py3-none-any.whl.metadata (2.2 kB)\r\n",
      "Collecting chardet==4.0.0 (from roboflow)\r\n",
      "  Downloading chardet-4.0.0-py2.py3-none-any.whl.metadata (3.5 kB)\r\n",
      "Collecting cycler==0.10.0 (from roboflow)\r\n",
      "  Downloading cycler-0.10.0-py2.py3-none-any.whl.metadata (722 bytes)\r\n",
      "Collecting idna==2.10 (from roboflow)\r\n",
      "  Downloading idna-2.10-py2.py3-none-any.whl.metadata (9.1 kB)\r\n",
      "Requirement already satisfied: kiwisolver>=1.3.1 in /opt/conda/lib/python3.10/site-packages (from roboflow) (1.4.5)\r\n",
      "Requirement already satisfied: matplotlib in /opt/conda/lib/python3.10/site-packages (from roboflow) (3.7.4)\r\n",
      "Requirement already satisfied: numpy>=1.18.5 in /opt/conda/lib/python3.10/site-packages (from roboflow) (1.24.4)\r\n",
      "Collecting opencv-python-headless==4.8.0.74 (from roboflow)\r\n",
      "  Downloading opencv_python_headless-4.8.0.74-cp37-abi3-manylinux_2_17_x86_64.manylinux2014_x86_64.whl.metadata (19 kB)\r\n",
      "Requirement already satisfied: Pillow>=7.1.2 in /opt/conda/lib/python3.10/site-packages (from roboflow) (9.5.0)\r\n",
      "Requirement already satisfied: python-dateutil in /opt/conda/lib/python3.10/site-packages (from roboflow) (2.8.2)\r\n",
      "Requirement already satisfied: python-dotenv in /opt/conda/lib/python3.10/site-packages (from roboflow) (1.0.0)\r\n",
      "Requirement already satisfied: requests in /opt/conda/lib/python3.10/site-packages (from roboflow) (2.31.0)\r\n",
      "Requirement already satisfied: six in /opt/conda/lib/python3.10/site-packages (from roboflow) (1.16.0)\r\n",
      "Requirement already satisfied: urllib3>=1.26.6 in /opt/conda/lib/python3.10/site-packages (from roboflow) (1.26.18)\r\n",
      "Requirement already satisfied: tqdm>=4.41.0 in /opt/conda/lib/python3.10/site-packages (from roboflow) (4.66.1)\r\n",
      "Requirement already satisfied: PyYAML>=5.3.1 in /opt/conda/lib/python3.10/site-packages (from roboflow) (6.0.1)\r\n",
      "Requirement already satisfied: requests-toolbelt in /opt/conda/lib/python3.10/site-packages (from roboflow) (0.10.1)\r\n",
      "Collecting python-magic (from roboflow)\r\n",
      "  Downloading python_magic-0.4.27-py2.py3-none-any.whl.metadata (5.8 kB)\r\n",
      "Requirement already satisfied: contourpy>=1.0.1 in /opt/conda/lib/python3.10/site-packages (from matplotlib->roboflow) (1.2.0)\r\n",
      "Requirement already satisfied: fonttools>=4.22.0 in /opt/conda/lib/python3.10/site-packages (from matplotlib->roboflow) (4.47.0)\r\n",
      "Requirement already satisfied: packaging>=20.0 in /opt/conda/lib/python3.10/site-packages (from matplotlib->roboflow) (21.3)\r\n",
      "Requirement already satisfied: pyparsing>=2.3.1 in /opt/conda/lib/python3.10/site-packages (from matplotlib->roboflow) (3.1.1)\r\n",
      "Requirement already satisfied: charset-normalizer<4,>=2 in /opt/conda/lib/python3.10/site-packages (from requests->roboflow) (3.3.2)\r\n",
      "Downloading roboflow-1.1.26-py3-none-any.whl (71 kB)\r\n",
      "\u001b[2K   \u001b[90m━━━━━━━━━━━━━━━━━━━━━━━━━━━━━━━━━━━━━━━━\u001b[0m \u001b[32m72.0/72.0 kB\u001b[0m \u001b[31m1.1 MB/s\u001b[0m eta \u001b[36m0:00:00\u001b[0m\r\n",
      "\u001b[?25hDownloading certifi-2023.7.22-py3-none-any.whl (158 kB)\r\n",
      "\u001b[2K   \u001b[90m━━━━━━━━━━━━━━━━━━━━━━━━━━━━━━━━━━━━━━━━\u001b[0m \u001b[32m158.3/158.3 kB\u001b[0m \u001b[31m2.7 MB/s\u001b[0m eta \u001b[36m0:00:00\u001b[0m\r\n",
      "\u001b[?25hDownloading chardet-4.0.0-py2.py3-none-any.whl (178 kB)\r\n",
      "\u001b[2K   \u001b[90m━━━━━━━━━━━━━━━━━━━━━━━━━━━━━━━━━━━━━━━━\u001b[0m \u001b[32m178.7/178.7 kB\u001b[0m \u001b[31m7.4 MB/s\u001b[0m eta \u001b[36m0:00:00\u001b[0m\r\n",
      "\u001b[?25hDownloading cycler-0.10.0-py2.py3-none-any.whl (6.5 kB)\r\n",
      "Downloading idna-2.10-py2.py3-none-any.whl (58 kB)\r\n",
      "\u001b[2K   \u001b[90m━━━━━━━━━━━━━━━━━━━━━━━━━━━━━━━━━━━━━━━━\u001b[0m \u001b[32m58.8/58.8 kB\u001b[0m \u001b[31m4.0 MB/s\u001b[0m eta \u001b[36m0:00:00\u001b[0m\r\n",
      "\u001b[?25hDownloading opencv_python_headless-4.8.0.74-cp37-abi3-manylinux_2_17_x86_64.manylinux2014_x86_64.whl (49.1 MB)\r\n",
      "\u001b[2K   \u001b[90m━━━━━━━━━━━━━━━━━━━━━━━━━━━━━━━━━━━━━━━━\u001b[0m \u001b[32m49.1/49.1 MB\u001b[0m \u001b[31m24.7 MB/s\u001b[0m eta \u001b[36m0:00:00\u001b[0m\r\n",
      "\u001b[?25hDownloading python_magic-0.4.27-py2.py3-none-any.whl (13 kB)\r\n",
      "Installing collected packages: python-magic, opencv-python-headless, idna, cycler, chardet, certifi, roboflow\r\n",
      "  Attempting uninstall: opencv-python-headless\r\n",
      "    Found existing installation: opencv-python-headless 4.9.0.80\r\n",
      "    Uninstalling opencv-python-headless-4.9.0.80:\r\n",
      "      Successfully uninstalled opencv-python-headless-4.9.0.80\r\n",
      "  Attempting uninstall: idna\r\n",
      "    Found existing installation: idna 3.6\r\n",
      "    Uninstalling idna-3.6:\r\n",
      "      Successfully uninstalled idna-3.6\r\n",
      "  Attempting uninstall: cycler\r\n",
      "    Found existing installation: cycler 0.12.1\r\n",
      "    Uninstalling cycler-0.12.1:\r\n",
      "      Successfully uninstalled cycler-0.12.1\r\n",
      "  Attempting uninstall: certifi\r\n",
      "    Found existing installation: certifi 2023.11.17\r\n",
      "    Uninstalling certifi-2023.11.17:\r\n",
      "      Successfully uninstalled certifi-2023.11.17\r\n",
      "\u001b[31mERROR: pip's dependency resolver does not currently take into account all the packages that are installed. This behaviour is the source of the following dependency conflicts.\r\n",
      "jupyterlab 4.0.11 requires jupyter-lsp>=2.0.0, but you have jupyter-lsp 1.5.1 which is incompatible.\r\n",
      "jupyterlab-lsp 5.0.2 requires jupyter-lsp>=2.0.0, but you have jupyter-lsp 1.5.1 which is incompatible.\r\n",
      "libpysal 4.9.2 requires packaging>=22, but you have packaging 21.3 which is incompatible.\r\n",
      "libpysal 4.9.2 requires shapely>=2.0.1, but you have shapely 1.8.5.post1 which is incompatible.\r\n",
      "momepy 0.7.0 requires shapely>=2, but you have shapely 1.8.5.post1 which is incompatible.\r\n",
      "osmnx 1.8.1 requires shapely>=2.0, but you have shapely 1.8.5.post1 which is incompatible.\r\n",
      "spopt 0.6.0 requires shapely>=2.0.1, but you have shapely 1.8.5.post1 which is incompatible.\r\n",
      "tensorflowjs 4.16.0 requires packaging~=23.1, but you have packaging 21.3 which is incompatible.\u001b[0m\u001b[31m\r\n",
      "\u001b[0mSuccessfully installed certifi-2023.7.22 chardet-4.0.0 cycler-0.10.0 idna-2.10 opencv-python-headless-4.8.0.74 python-magic-0.4.27 roboflow-1.1.26\r\n",
      "loading Roboflow workspace...\n",
      "loading Roboflow project...\n",
      "Dependency ultralytics==8.0.196 is required but found version=8.0.20, to fix: `pip install ultralytics==8.0.196`\n"
     ]
    },
    {
     "name": "stderr",
     "output_type": "stream",
     "text": [
      "Downloading Dataset Version Zip in detect-2 to yolov8:: 100%|██████████| 80722/80722 [00:01<00:00, 42895.66it/s]"
     ]
    },
    {
     "name": "stdout",
     "output_type": "stream",
     "text": [
      "\n"
     ]
    },
    {
     "name": "stderr",
     "output_type": "stream",
     "text": [
      "\n",
      "Extracting Dataset Version Zip to detect-2 in yolov8:: 100%|██████████| 6822/6822 [00:00<00:00, 8372.01it/s]\n"
     ]
    }
   ],
   "source": [
    "%cd {HOME}/datasets\n",
    "!pip install roboflow\n",
    "from roboflow import Roboflow\n",
    "\n",
    "rf = Roboflow(api_key=\"A88aglIXim3OCSF5vNOe\")\n",
    "project = rf.workspace(\"gabriel-advent-hobto\").project(\"detect-tdz36\")\n",
    "version = project.version(1)\n",
    "dataset = version.download(\"yolov8\")\n"
   ]
  },
  {
   "cell_type": "markdown",
   "id": "01a800d5",
   "metadata": {},
   "source": [
    "# Train Grid Search"
   ]
  },
  {
   "cell_type": "code",
   "execution_count": 5,
   "id": "7155e488",
   "metadata": {},
   "outputs": [
    {
     "name": "stdout",
     "output_type": "stream",
     "text": [
      "32\n"
     ]
    }
   ],
   "source": [
    "import subprocess\n",
    "from itertools import product\n",
    "\n",
    "param_grid = {\n",
    "    'model': ['yolov8s.pt'],\n",
    "    'dropout': [0.2, 0.5],\n",
    "    'batch': [32, 64],\n",
    "    'lr': [0.001, 0.0001],\n",
    "    'optimizer' : ['Adam', 'RMSProp'],\n",
    "}\n",
    "\n",
    "# Generate semua kombinasi\n",
    "param_combinations = list(product(*param_grid.values()))\n",
    "print(len(param_combinations))"
   ]
  },
  {
   "cell_type": "code",
   "execution_count": null,
   "id": "a90405ed",
   "metadata": {},
   "outputs": [],
   "source": [
    "# Memasukan semua kombinasi parameter ke dalam commands\n",
    "\n",
    "commands = []\n",
    "for params in param_combinations:\n",
    "    model, dropout, batch, lr, optimizer = params\n",
    "    command = f\"yolo detect train \\\n",
    "data='/kaggle/working/datasets/detect-2/data.yaml' \\\n",
    "model='{model}' \\\n",
    "epochs=200 \\\n",
    "imgsz='416' \\\n",
    "optimizer={optimizer} \\\n",
    "lr0={lr} \\\n",
    "batch='{batch}' \\\n",
    "dropout='{dropout}'\\\n",
    "weight_decay=0.0005 \\\n",
    "momentum=0.937 \\\n",
    "plots=True \\\n",
    "save=True\"\n",
    "    commands.append(command)"
   ]
  },
  {
   "cell_type": "code",
   "execution_count": null,
   "id": "04d2f23c",
   "metadata": {},
   "outputs": [],
   "source": [
    "%cd {HOME}\n",
    "\n",
    "import subprocess\n",
    "\n",
    "# Loop setiap perintah dan jalankan menggunakan subprocess\n",
    "for command in commands:\n",
    "    print(command)\n",
    "    subprocess.run(command, shell=True)"
   ]
  },
  {
   "cell_type": "markdown",
   "id": "ff765b26",
   "metadata": {},
   "source": [
    "# Validasi"
   ]
  },
  {
   "cell_type": "code",
   "execution_count": null,
   "id": "0a554bc4",
   "metadata": {},
   "outputs": [],
   "source": [
    "%cd {HOME}\n",
    "\n",
    "!yolo task=detect mode=val model='/kaggle/working/runs/detect/train/weights/best.pt' data='/kaggle/working/datasets/detect-2/data.yaml' plots=True save_json=True"
   ]
  },
  {
   "cell_type": "markdown",
   "id": "9715d103",
   "metadata": {},
   "source": [
    "# Testing"
   ]
  },
  {
   "cell_type": "code",
   "execution_count": null,
   "id": "6d038465",
   "metadata": {},
   "outputs": [],
   "source": [
    "from ultralytics.yolo.engine.model import YOLO\n",
    "import pandas as pd\n",
    "import glob\n",
    "from IPython.display import Image, display"
   ]
  },
  {
   "cell_type": "code",
   "execution_count": null,
   "id": "bbab2c12",
   "metadata": {},
   "outputs": [],
   "source": [
    "test_path = \"/kaggle/working/detect-2/test/images\"\n",
    "\n",
    "model = YOLO(f\"/kaggle/input/objeckdetect/pytorch/object-detect/1/best.pt\")\n",
    "results = model.predict(source=test_path)\n",
    "names = model.names\n",
    "labels = []\n",
    "\n",
    "# DataFrame untuk menyimpan hasil deteksi\n",
    "df_results = pd.DataFrame(columns=['Image', 'Labels'])\n",
    "\n",
    "for r in results:\n",
    "    # Get bounding boxes and class indices\n",
    "    boxes = r.boxes.xyxy\n",
    "    cls = r.boxes.cls\n",
    "    \n",
    "    # Sort bounding boxes and class indices by x1 coordinate\n",
    "    sorted_indices = boxes[:, 0].argsort()\n",
    "    sorted_boxes = boxes[sorted_indices]\n",
    "    sorted_cls = cls[sorted_indices]\n",
    "    \n",
    "    # Get class names\n",
    "    file_labels = [names[int(c)] for c in sorted_cls]\n",
    "    \n",
    "    # Append labels to list\n",
    "    labels.append(file_labels)"
   ]
  },
  {
   "cell_type": "code",
   "execution_count": null,
   "id": "ab481c74",
   "metadata": {},
   "outputs": [],
   "source": [
    "i = 0\n",
    "\n",
    "# List of supported image extensions\n",
    "image_extensions = ['png', 'jpg', 'jpeg']\n",
    "\n",
    "for image_extension in image_extensions:\n",
    "    image_paths = glob.glob(f\"{test_path}/*.{image_extension}\")\n",
    "    for image_path in sorted(image_paths):\n",
    "        print(image_path)\n",
    "        print(labels[i])\n",
    "        display(Image(filename=image_path, width=200))\n",
    "        print(\"\\n\")\n",
    "        \n",
    "        # Tambahkan hasil deteksi ke DataFrame\n",
    "        df_results = pd.concat([df_results, pd.DataFrame({'Image': [image_path], 'Labels': [', '.join(labels[i])]})], ignore_index=True)\n",
    "        \n",
    "        i += 1\n",
    "\n",
    "# Simpan DataFrame ke file Excel\n",
    "df_results.to_excel(\"/kaggle/working/detection_results.xlsx\", index=False)"
   ]
  }
 ],
 "metadata": {
  "kaggle": {
   "accelerator": "nvidiaTeslaT4",
   "dataSources": [
    {
     "datasetId": 3945735,
     "sourceId": 6865350,
     "sourceType": "datasetVersion"
    },
    {
     "datasetId": 4480482,
     "sourceId": 7679816,
     "sourceType": "datasetVersion"
    }
   ],
   "dockerImageVersionId": 30648,
   "isGpuEnabled": true,
   "isInternetEnabled": true,
   "language": "python",
   "sourceType": "notebook"
  },
  "kernelspec": {
   "display_name": "Python 3",
   "language": "python",
   "name": "python3"
  },
  "language_info": {
   "codemirror_mode": {
    "name": "ipython",
    "version": 3
   },
   "file_extension": ".py",
   "mimetype": "text/x-python",
   "name": "python",
   "nbconvert_exporter": "python",
   "pygments_lexer": "ipython3",
   "version": "3.12.0"
  },
  "papermill": {
   "default_parameters": {},
   "duration": 6861.411676,
   "end_time": "2024-03-25T18:26:19.166797",
   "environment_variables": {},
   "exception": null,
   "input_path": "__notebook__.ipynb",
   "output_path": "__notebook__.ipynb",
   "parameters": {},
   "start_time": "2024-03-25T16:31:57.755121",
   "version": "2.5.0"
  }
 },
 "nbformat": 4,
 "nbformat_minor": 5
}
