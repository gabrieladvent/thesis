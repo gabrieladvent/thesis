{
 "cells": [
  {
   "cell_type": "code",
   "execution_count": 1,
   "id": "b52ccaf7",
   "metadata": {
    "execution": {
     "iopub.execute_input": "2024-03-25T16:32:00.847439Z",
     "iopub.status.busy": "2024-03-25T16:32:00.847070Z",
     "iopub.status.idle": "2024-03-25T16:32:00.859191Z",
     "shell.execute_reply": "2024-03-25T16:32:00.858174Z"
    },
    "papermill": {
     "duration": 0.021466,
     "end_time": "2024-03-25T16:32:00.861346",
     "exception": false,
     "start_time": "2024-03-25T16:32:00.839880",
     "status": "completed"
    },
    "tags": []
   },
   "outputs": [
    {
     "name": "stdout",
     "output_type": "stream",
     "text": [
      "/kaggle/working\n"
     ]
    }
   ],
   "source": [
    "import os\n",
    "HOME = os.getcwd()\n",
    "print(HOME)"
   ]
  },
  {
   "cell_type": "code",
   "execution_count": 2,
   "id": "4d9576f6",
   "metadata": {
    "execution": {
     "iopub.execute_input": "2024-03-25T16:32:00.873498Z",
     "iopub.status.busy": "2024-03-25T16:32:00.873216Z",
     "iopub.status.idle": "2024-03-25T16:32:29.267590Z",
     "shell.execute_reply": "2024-03-25T16:32:29.266681Z"
    },
    "papermill": {
     "duration": 28.402822,
     "end_time": "2024-03-25T16:32:29.269824",
     "exception": false,
     "start_time": "2024-03-25T16:32:00.867002",
     "status": "completed"
    },
    "tags": []
   },
   "outputs": [
    {
     "name": "stderr",
     "output_type": "stream",
     "text": [
      "Ultralytics YOLOv8.0.20 🚀 Python-3.10.13 torch-2.1.2 CUDA:0 (Tesla T4, 15102MiB)\n",
      "Setup complete ✅ (4 CPUs, 31.4 GB RAM, 5519.7/8062.4 GB disk)\n"
     ]
    }
   ],
   "source": [
    "!pip install ultralytics\n",
    "\n",
    "from IPython import display\n",
    "display.clear_output()\n",
    "\n",
    "import ultralytics\n",
    "ultralytics.checks()"
   ]
  },
  {
   "cell_type": "code",
   "execution_count": 3,
   "id": "2473cbe8",
   "metadata": {
    "execution": {
     "iopub.execute_input": "2024-03-25T16:32:29.282876Z",
     "iopub.status.busy": "2024-03-25T16:32:29.282085Z",
     "iopub.status.idle": "2024-03-25T16:32:29.286917Z",
     "shell.execute_reply": "2024-03-25T16:32:29.286074Z"
    },
    "papermill": {
     "duration": 0.013341,
     "end_time": "2024-03-25T16:32:29.288822",
     "exception": false,
     "start_time": "2024-03-25T16:32:29.275481",
     "status": "completed"
    },
    "tags": []
   },
   "outputs": [],
   "source": [
    "from ultralytics import YOLO\n",
    "from IPython.display import display, Image"
   ]
  },
  {
   "cell_type": "markdown",
   "id": "88116f81",
   "metadata": {
    "papermill": {
     "duration": 0.006573,
     "end_time": "2024-03-25T16:32:56.411311",
     "exception": false,
     "start_time": "2024-03-25T16:32:56.404738",
     "status": "completed"
    },
    "tags": []
   },
   "source": [
    "# Import datasets from roboflow"
   ]
  },
  {
   "cell_type": "code",
   "execution_count": 5,
   "id": "1c07d05a",
   "metadata": {
    "execution": {
     "iopub.execute_input": "2024-03-25T16:32:56.426307Z",
     "iopub.status.busy": "2024-03-25T16:32:56.425486Z",
     "iopub.status.idle": "2024-03-25T16:32:57.484270Z",
     "shell.execute_reply": "2024-03-25T16:32:57.482967Z"
    },
    "papermill": {
     "duration": 1.068802,
     "end_time": "2024-03-25T16:32:57.486560",
     "exception": false,
     "start_time": "2024-03-25T16:32:56.417758",
     "status": "completed"
    },
    "tags": []
   },
   "outputs": [
    {
     "name": "stdout",
     "output_type": "stream",
     "text": [
      "/kaggle/working/datasets\n"
     ]
    }
   ],
   "source": [
    "!mkdir {HOME}/datasets\n",
    "%cd {HOME}/datasets"
   ]
  },
  {
   "cell_type": "code",
   "execution_count": null,
   "id": "e6f807f5",
   "metadata": {
    "execution": {
     "iopub.execute_input": "2024-03-25T16:32:57.501694Z",
     "iopub.status.busy": "2024-03-25T16:32:57.501281Z",
     "iopub.status.idle": "2024-03-25T16:33:21.516203Z",
     "shell.execute_reply": "2024-03-25T16:33:21.515075Z"
    },
    "papermill": {
     "duration": 24.025255,
     "end_time": "2024-03-25T16:33:21.518578",
     "exception": false,
     "start_time": "2024-03-25T16:32:57.493323",
     "status": "completed"
    },
    "tags": []
   },
   "outputs": [],
   "source": [
    "%cd {HOME}/datasets\n",
    "!pip install roboflow\n",
    "from roboflow import Roboflow\n",
    "\n",
    "rf = Roboflow(api_key=\"A88aglIXim3OCSF5vNOe\")\n",
    "project = rf.workspace(\"gabriel-advent-hobto\").project(\"detect-tdz36\")\n",
    "version = project.version(1)\n",
    "dataset = version.download(\"yolov8\")\n"
   ]
  },
  {
   "cell_type": "markdown",
   "id": "01a800d5",
   "metadata": {},
   "source": [
    "# Train Grid Search"
   ]
  },
  {
   "cell_type": "code",
   "execution_count": 5,
   "id": "7155e488",
   "metadata": {},
   "outputs": [
    {
     "name": "stdout",
     "output_type": "stream",
     "text": [
      "32\n"
     ]
    }
   ],
   "source": [
    "import subprocess\n",
    "from itertools import product\n",
    "\n",
    "param_grid = {\n",
    "    'model': ['yolov8s.pt'],\n",
    "    'dropout': [0.2, 0.5],\n",
    "    'batch': [32, 64],\n",
    "    'lr': [0.001, 0.0001],\n",
    "    'optimizer' : ['Adam', 'RMSProp'],\n",
    "}\n",
    "\n",
    "# Generate semua kombinasi\n",
    "param_combinations = list(product(*param_grid.values()))\n",
    "print(len(param_combinations))"
   ]
  },
  {
   "cell_type": "code",
   "execution_count": null,
   "id": "a90405ed",
   "metadata": {},
   "outputs": [],
   "source": [
    "# Memasukan semua kombinasi parameter ke dalam commands\n",
    "\n",
    "commands = []\n",
    "for params in param_combinations:\n",
    "    model, dropout, batch, lr, optimizer = params\n",
    "    command = f\"yolo detect train \\\n",
    "data='/kaggle/working/datasets/detect-2/data.yaml' \\\n",
    "model='{model}' \\\n",
    "epochs=200 \\\n",
    "imgsz='416' \\\n",
    "optimizer={optimizer} \\\n",
    "lr0={lr} \\\n",
    "batch='{batch}' \\\n",
    "dropout='{dropout}'\\\n",
    "plots=True \\\n",
    "save=True\"\n",
    "    commands.append(command)"
   ]
  },
  {
   "cell_type": "code",
   "execution_count": null,
   "id": "04d2f23c",
   "metadata": {},
   "outputs": [],
   "source": [
    "%cd {HOME}\n",
    "\n",
    "import subprocess\n",
    "\n",
    "# Loop setiap perintah dan jalankan menggunakan subprocess\n",
    "for command in commands:\n",
    "    print(command)\n",
    "    subprocess.run(command, shell=True)"
   ]
  },
  {
   "cell_type": "markdown",
   "id": "ff765b26",
   "metadata": {},
   "source": [
    "# Validasi"
   ]
  },
  {
   "cell_type": "code",
   "execution_count": null,
   "id": "0a554bc4",
   "metadata": {},
   "outputs": [],
   "source": [
    "%cd {HOME}\n",
    "\n",
    "!yolo task=detect mode=val model='/kaggle/working/runs/detect/train/weights/best.pt' data='/kaggle/working/datasets/detect-2/data.yaml' plots=True save_json=True"
   ]
  },
  {
   "cell_type": "markdown",
   "id": "9715d103",
   "metadata": {},
   "source": [
    "# Testing"
   ]
  },
  {
   "cell_type": "code",
   "execution_count": null,
   "id": "6d038465",
   "metadata": {},
   "outputs": [],
   "source": [
    "import glob\n",
    "import pandas as pd\n",
    "from PIL import Image as PILImage\n",
    "from IPython.display import display\n",
    "import cv2\n",
    "import numpy as np"
   ]
  },
  {
   "cell_type": "code",
   "execution_count": null,
   "id": "bbab2c12",
   "metadata": {},
   "outputs": [],
   "source": [
    "# Path to the test images\n",
    "test_path = \"/kaggle/working/detect-1/test/images\"\n",
    "\n",
    "# Load the YOLO model\n",
    "model = YOLO(f\"/kaggle/working/runs/detect/train/weights/best.pt\")\n",
    "\n",
    "# Perform predictions\n",
    "results = model.predict(source=test_path)\n",
    "names = model.names\n",
    "labels = []\n",
    "\n",
    "# DataFrame to store detection results\n",
    "df_results = pd.DataFrame(columns=['Image', 'Labels'])\n",
    "\n",
    "for r in results:\n",
    "    # Get bounding boxes and class indices\n",
    "    boxes = r.boxes.xyxy\n",
    "    cls = r.boxes.cls\n",
    "    \n",
    "    # Sort bounding boxes and class indices by x1 coordinate\n",
    "    sorted_indices = boxes[:, 0].argsort()\n",
    "    sorted_boxes = boxes[sorted_indices]\n",
    "    sorted_cls = cls[sorted_indices]\n",
    "    \n",
    "    # Get class names\n",
    "    file_labels = [names[int(c)] for c in sorted_cls]\n",
    "    \n",
    "    # Append labels to list\n",
    "    labels.append((file_labels, sorted_boxes, sorted_cls))"
   ]
  },
  {
   "cell_type": "code",
   "execution_count": null,
   "id": "ab481c74",
   "metadata": {},
   "outputs": [],
   "source": [
    "i = 0\n",
    "\n",
    "# List of supported image extensions\n",
    "image_extensions = ['png', 'jpg', 'jpeg']\n",
    "\n",
    "for image_extension in image_extensions:\n",
    "    image_paths = glob.glob(f\"{test_path}/*.{image_extension}\")\n",
    "    for image_path in sorted(image_paths):\n",
    "        print(image_path)\n",
    "        file_labels, sorted_boxes, sorted_cls = labels[i]\n",
    "        img = cv2.imread(image_path)\n",
    "        img = cv2.cvtColor(img, cv2.COLOR_BGR2RGB)\n",
    "        \n",
    "        # Draw bounding boxes on the image\n",
    "        for box, cls_idx in zip(sorted_boxes, sorted_cls):\n",
    "            x1, y1, x2, y2 = map(int, box)\n",
    "            label = names[int(cls_idx)]\n",
    "            color = (0, 255, 0)  # Green color for bounding box\n",
    "            cv2.rectangle(img, (x1, y1), (x2, y2), color, 2)\n",
    "            cv2.putText(img, label, (x1, y1 - 10), cv2.FONT_HERSHEY_SIMPLEX, 0.9, color, 2)\n",
    "        \n",
    "        # Display the image with bounding boxes\n",
    "        display(PILImage.fromarray(img))\n",
    "        \n",
    "        # Print the detection labels\n",
    "        print(\"Detected Labels:\", \", \".join(file_labels))\n",
    "        print(\"\\n\")\n",
    "        \n",
    "        # Add detection results to the DataFrame\n",
    "        df_results = pd.concat([df_results, pd.DataFrame({'Image': [image_path], 'Labels': [', '.join(file_labels)]})], ignore_index=True)\n",
    "        \n",
    "        i += 1\n",
    "\n",
    "# Save the DataFrame to an Excel file\n",
    "df_results.to_excel(\"/kaggle/working/detection_results.xlsx\", index=False)"
   ]
  }
 ],
 "metadata": {
  "kaggle": {
   "accelerator": "nvidiaTeslaT4",
   "dataSources": [
    {
     "datasetId": 3945735,
     "sourceId": 6865350,
     "sourceType": "datasetVersion"
    },
    {
     "datasetId": 4480482,
     "sourceId": 7679816,
     "sourceType": "datasetVersion"
    }
   ],
   "dockerImageVersionId": 30648,
   "isGpuEnabled": true,
   "isInternetEnabled": true,
   "language": "python",
   "sourceType": "notebook"
  },
  "kernelspec": {
   "display_name": "Python 3",
   "language": "python",
   "name": "python3"
  },
  "language_info": {
   "codemirror_mode": {
    "name": "ipython",
    "version": 3
   },
   "file_extension": ".py",
   "mimetype": "text/x-python",
   "name": "python",
   "nbconvert_exporter": "python",
   "pygments_lexer": "ipython3",
   "version": "3.12.0"
  },
  "papermill": {
   "default_parameters": {},
   "duration": 6861.411676,
   "end_time": "2024-03-25T18:26:19.166797",
   "environment_variables": {},
   "exception": null,
   "input_path": "__notebook__.ipynb",
   "output_path": "__notebook__.ipynb",
   "parameters": {},
   "start_time": "2024-03-25T16:31:57.755121",
   "version": "2.5.0"
  }
 },
 "nbformat": 4,
 "nbformat_minor": 5
}
